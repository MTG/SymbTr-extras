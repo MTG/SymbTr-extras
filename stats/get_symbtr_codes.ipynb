{
 "cells": [
  {
   "cell_type": "code",
   "execution_count": 1,
   "metadata": {
    "collapsed": false
   },
   "outputs": [],
   "source": [
    "from fileoperations.fileoperations import get_filenames_in_dir\n",
    "from symbtrdataextractor import symbtrreader\n",
    "import os\n",
    "import json\n",
    "import pandas as pd "
   ]
  },
  {
   "cell_type": "code",
   "execution_count": 2,
   "metadata": {
    "collapsed": true
   },
   "outputs": [],
   "source": [
    "symbtrfolder = os.path.abspath(os.path.join('..' , '..' ,'txt'))\n",
    "symbtrpaths, symbtrfolder, symbtrnames = get_filenames_in_dir(symbtrfolder, keyword='*.txt')\n",
    "\n",
    "code_save_path = os.path.join('..', 'symbtrextras', 'data', 'note_codes.json')\n"
   ]
  },
  {
   "cell_type": "code",
   "execution_count": 3,
   "metadata": {
    "collapsed": false,
    "scrolled": true
   },
   "outputs": [],
   "source": [
    "# read all the scores row by row and record occurences of different values in the \"Kod\" column\n",
    "note_codes = {}\n",
    "for sp, sn in zip(symbtrpaths, symbtrnames):\n",
    "\n",
    "    df = pd.read_csv(sp, sep='\\t')\n",
    "    for index, row in df.iterrows():\n",
    "        if not row['Kod'] in note_codes.keys():\n",
    "            row = row.to_dict()\n",
    "            for key, val in row.iteritems():\n",
    "                if pd.isnull(val):\n",
    "                    row[key] = ''\n",
    "\n",
    "            note_codes[row['Kod']] = {'example_row': row, 'example_txt': sn, 'observed_txt': set([sn])}\n",
    "        else:\n",
    "            note_codes[row['Kod']]['observed_txt'].update([sn])\n",
    "            "
   ]
  },
  {
   "cell_type": "code",
   "execution_count": 4,
   "metadata": {
    "collapsed": false
   },
   "outputs": [],
   "source": [
    "for val in note_codes.values():\n",
    "    val['observed_txt'] = list(val['observed_txt'])\n",
    "\n",
    "json.dump(note_codes, open(code_save_path,'w'), indent=4)\n"
   ]
  }
 ],
 "metadata": {
  "kernelspec": {
   "display_name": "Python 2",
   "language": "python",
   "name": "python2"
  },
  "language_info": {
   "codemirror_mode": {
    "name": "ipython",
    "version": 2
   },
   "file_extension": ".py",
   "mimetype": "text/x-python",
   "name": "python",
   "nbconvert_exporter": "python",
   "pygments_lexer": "ipython2",
   "version": "2.7.10"
  }
 },
 "nbformat": 4,
 "nbformat_minor": 0
}
