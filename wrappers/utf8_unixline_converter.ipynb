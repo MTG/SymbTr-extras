{
 "cells": [
  {
   "cell_type": "code",
   "execution_count": null,
   "metadata": {
    "collapsed": false
   },
   "outputs": [],
   "source": [
    "import os\n",
    "import subprocess\n",
    "from fileoperations.fileoperations import get_filenames_in_dir\n",
    "from symbtrextras.ScoreExtras import ScoreExtras\n"
   ]
  },
  {
   "cell_type": "code",
   "execution_count": null,
   "metadata": {
    "collapsed": false
   },
   "outputs": [],
   "source": [
    "folder = '../../txt'\n",
    "txt_files, dummy, names = get_filenames_in_dir(os.path.join('..', '..', 'txt'), keyword='*.txt')\n",
    "mu2_files = get_filenames_in_dir(os.path.join('..', '..', 'mu2'), keyword='*.mu2')[0]\n",
    "\n",
    "names = [os.path.splitext(n)[0] for n in names]\n"
   ]
  },
  {
   "cell_type": "code",
   "execution_count": null,
   "metadata": {
    "collapsed": false
   },
   "outputs": [],
   "source": [
    "for tf, mf, n in zip(txt_files, mu2_files, names):\n",
    "    print n\n",
    "    ScoreExtras.change_encoding_to_utf8(tf)\n",
    "    ScoreExtras.change_to_unix_linebreak(tf)\n",
    "    \n",
    "    ScoreExtras.change_encoding_to_utf8(mf)\n",
    "    ScoreExtras.change_to_unix_linebreak(mf)"
   ]
  }
 ],
 "metadata": {
  "kernelspec": {
   "display_name": "Python 2",
   "language": "python",
   "name": "python2"
  },
  "language_info": {
   "codemirror_mode": {
    "name": "ipython",
    "version": 2
   },
   "file_extension": ".py",
   "mimetype": "text/x-python",
   "name": "python",
   "nbconvert_exporter": "python",
   "pygments_lexer": "ipython2",
   "version": "2.7.10"
  }
 },
 "nbformat": 4,
 "nbformat_minor": 0
}
