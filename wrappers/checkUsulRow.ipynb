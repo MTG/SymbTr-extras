{
 "cells": [
  {
   "cell_type": "code",
   "execution_count": null,
   "metadata": {
    "collapsed": false
   },
   "outputs": [],
   "source": [
    "from fileoperations.fileoperations import get_filenames_in_dir\n",
    "from symbtrextras.TxtExtras import TxtExtras\n",
    "import os\n",
    "import json\n",
    "import pandas as pd \n"
   ]
  },
  {
   "cell_type": "code",
   "execution_count": null,
   "metadata": {
    "collapsed": false
   },
   "outputs": [],
   "source": [
    "symbtrfolder = os.path.join('..', '..', 'txt')\n",
    "symbtrs = [os.path.splitext(s)[0] for s in get_filenames_in_dir(symbtrfolder, keyword='*.txt')[2]]\n"
   ]
  },
  {
   "cell_type": "code",
   "execution_count": null,
   "metadata": {
    "collapsed": false
   },
   "outputs": [],
   "source": [
    "for ii, symbtr in enumerate(symbtrs):\n",
    "    print(str(ii) + ' ' + symbtr)\n",
    "    txt_file = os.path.join(symbtrfolder, symbtr + '.txt')\n",
    "\n",
    "    symbtr_csv = TxtExtras.check_usul_row(txt_file)    \n",
    "    with open(txt_file, 'w') as text_file:\n",
    "        text_file.write(symbtr_csv)\n"
   ]
  },
  {
   "cell_type": "code",
   "execution_count": null,
   "metadata": {
    "collapsed": true
   },
   "outputs": [],
   "source": []
  }
 ],
 "metadata": {
  "kernelspec": {
   "display_name": "Python 2",
   "language": "python",
   "name": "python2"
  },
  "language_info": {
   "codemirror_mode": {
    "name": "ipython",
    "version": 2
   },
   "file_extension": ".py",
   "mimetype": "text/x-python",
   "name": "python",
   "nbconvert_exporter": "python",
   "pygments_lexer": "ipython2",
   "version": "2.7.10"
  }
 },
 "nbformat": 4,
 "nbformat_minor": 0
}
