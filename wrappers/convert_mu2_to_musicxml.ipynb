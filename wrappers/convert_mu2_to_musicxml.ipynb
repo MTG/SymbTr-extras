{
 "cells": [
  {
   "cell_type": "code",
   "execution_count": 1,
   "metadata": {
    "collapsed": true
   },
   "outputs": [],
   "source": [
    "import os\n",
    "from fileoperations.fileoperations import get_filenames_in_dir\n",
    "from tomato.symbolic.scoreconverter import ScoreConverter"
   ]
  },
  {
   "cell_type": "markdown",
   "metadata": {},
   "source": [
    "__Warning:__ __tomato__ is not listed in the requirements of SymbTrExtras, because ```mu2_to_musicxml``` method is experimental. You can install __tomato__ by following the instructions [here](https://github.com/sertansenturk/tomato/blob/master/README.md#installation)."
   ]
  },
  {
   "cell_type": "code",
   "execution_count": 2,
   "metadata": {
    "collapsed": true
   },
   "outputs": [],
   "source": [
    "mu2folder = os.path.join('..', '..', 'mu2')\n",
    "xmlfolder = os.path.join('..', '..', 'MusicXML')\n",
    "\n",
    "mu2filepaths, dummyfolders, mu2files = get_filenames_in_dir(mu2folder, '*.mu2')\n",
    "symbtrnames = [os.path.splitext(sf)[0] for sf in mu2files]\n",
    "xmlfilepaths = [os.path.join(xmlfolder, sn + '.xml') for sn in symbtrnames]\n"
   ]
  },
  {
   "cell_type": "code",
   "execution_count": 3,
   "metadata": {
    "scrolled": true
   },
   "outputs": [
    {
     "name": "stdout",
     "output_type": "stream",
     "text": [
      "0 nihavent--sarki--sofyan--kandilli_yuzerken--munir_nurettin_selcuk\n"
     ]
    },
    {
     "ename": "TypeError",
     "evalue": "argument of type 'NoneType' is not iterable",
     "output_type": "error",
     "traceback": [
      "\u001b[0;31m---------------------------------------------------------------------------\u001b[0m",
      "\u001b[0;31mTypeError\u001b[0m                                 Traceback (most recent call last)",
      "\u001b[0;32m<ipython-input-3-3f555ec4affa>\u001b[0m in \u001b[0;36m<module>\u001b[0;34m()\u001b[0m\n\u001b[1;32m      1\u001b[0m \u001b[0;32mfor\u001b[0m \u001b[0mii\u001b[0m\u001b[0;34m,\u001b[0m \u001b[0;34m(\u001b[0m\u001b[0mmf\u001b[0m\u001b[0;34m,\u001b[0m \u001b[0mxf\u001b[0m\u001b[0;34m)\u001b[0m \u001b[0;32min\u001b[0m \u001b[0menumerate\u001b[0m\u001b[0;34m(\u001b[0m\u001b[0mzip\u001b[0m\u001b[0;34m(\u001b[0m\u001b[0mmu2filepaths\u001b[0m\u001b[0;34m,\u001b[0m \u001b[0mxmlfilepaths\u001b[0m\u001b[0;34m)\u001b[0m\u001b[0;34m)\u001b[0m\u001b[0;34m:\u001b[0m\u001b[0;34m\u001b[0m\u001b[0m\n\u001b[1;32m      2\u001b[0m     \u001b[0;32mprint\u001b[0m \u001b[0mstr\u001b[0m\u001b[0;34m(\u001b[0m\u001b[0mii\u001b[0m\u001b[0;34m)\u001b[0m \u001b[0;34m+\u001b[0m \u001b[0;34m' '\u001b[0m \u001b[0;34m+\u001b[0m \u001b[0msn\u001b[0m\u001b[0;34m\u001b[0m\u001b[0m\n\u001b[0;32m----> 3\u001b[0;31m     \u001b[0mScoreConverter\u001b[0m\u001b[0;34m.\u001b[0m\u001b[0mmu2_to_musicxml\u001b[0m\u001b[0;34m(\u001b[0m\u001b[0mmf\u001b[0m\u001b[0;34m,\u001b[0m \u001b[0mxml_out\u001b[0m\u001b[0;34m=\u001b[0m\u001b[0mxf\u001b[0m\u001b[0;34m)\u001b[0m\u001b[0;34m\u001b[0m\u001b[0m\n\u001b[0m",
      "\u001b[0;32m/home/sertansenturk/Documents/notaIcra/virtualenvs/tomato/local/lib/python2.7/site-packages/tomato/symbolic/scoreconverter.pyc\u001b[0m in \u001b[0;36mmu2_to_musicxml\u001b[0;34m(cls, mu2_file, xml_out, symbtr_name, flags, midi_instrument)\u001b[0m\n\u001b[1;32m     99\u001b[0m         \u001b[0;31m# parse\u001b[0m\u001b[0;34m\u001b[0m\u001b[0;34m\u001b[0m\u001b[0m\n\u001b[1;32m    100\u001b[0m         temp_out_file, midi_str, flag_str = cls._parse_musikitomusicxml_inputs(\n\u001b[0;32m--> 101\u001b[0;31m             temp_in_file, midi_instrument, flags)\n\u001b[0m\u001b[1;32m    102\u001b[0m \u001b[0;34m\u001b[0m\u001b[0m\n\u001b[1;32m    103\u001b[0m         \u001b[0;32mtry\u001b[0m\u001b[0;34m:\u001b[0m\u001b[0;34m\u001b[0m\u001b[0m\n",
      "\u001b[0;32m/home/sertansenturk/Documents/notaIcra/virtualenvs/tomato/local/lib/python2.7/site-packages/tomato/symbolic/scoreconverter.pyc\u001b[0m in \u001b[0;36m_parse_musikitomusicxml_inputs\u001b[0;34m(temp_in_file, midi_instrument, flags)\u001b[0m\n\u001b[1;32m    134\u001b[0m     \u001b[0;32mdef\u001b[0m \u001b[0m_parse_musikitomusicxml_inputs\u001b[0m\u001b[0;34m(\u001b[0m\u001b[0mtemp_in_file\u001b[0m\u001b[0;34m,\u001b[0m \u001b[0mmidi_instrument\u001b[0m\u001b[0;34m,\u001b[0m \u001b[0mflags\u001b[0m\u001b[0;34m)\u001b[0m\u001b[0;34m:\u001b[0m\u001b[0;34m\u001b[0m\u001b[0m\n\u001b[1;32m    135\u001b[0m         \u001b[0;31m# specify the output filename\u001b[0m\u001b[0;34m\u001b[0m\u001b[0;34m\u001b[0m\u001b[0m\n\u001b[0;32m--> 136\u001b[0;31m         \u001b[0;32mif\u001b[0m \u001b[0;34m'P'\u001b[0m \u001b[0;32min\u001b[0m \u001b[0mflags\u001b[0m\u001b[0;34m:\u001b[0m  \u001b[0;31m# Musescore pretty print\u001b[0m\u001b[0;34m\u001b[0m\u001b[0m\n\u001b[0m\u001b[1;32m    137\u001b[0m             out_file = u'{0:s}.musescore-print.xml'.format(\n\u001b[1;32m    138\u001b[0m                 os.path.splitext(temp_in_file)[0])\n",
      "\u001b[0;31mTypeError\u001b[0m: argument of type 'NoneType' is not iterable"
     ]
    }
   ],
   "source": [
    "for ii, (mf, xf) in enumerate(zip(mu2filepaths, xmlfilepaths)):\n",
    "    print str(ii) + ' ' + sn\n",
    "    ScoreConverter.mu2_to_musicxml(mf, xml_out=xf)\n"
   ]
  }
 ],
 "metadata": {
  "kernelspec": {
   "display_name": "Python 2",
   "language": "python",
   "name": "python2"
  },
  "language_info": {
   "codemirror_mode": {
    "name": "ipython",
    "version": 2
   },
   "file_extension": ".py",
   "mimetype": "text/x-python",
   "name": "python",
   "nbconvert_exporter": "python",
   "pygments_lexer": "ipython2",
   "version": "2.7.12"
  }
 },
 "nbformat": 4,
 "nbformat_minor": 1
}
