{
 "cells": [
  {
   "cell_type": "code",
   "execution_count": null,
   "metadata": {
    "collapsed": false
   },
   "outputs": [],
   "source": [
    "from fileoperations.fileoperations import getFileNamesInDir\n",
    "from symbtrextras.SymbTrExtras import TxtExtras\n",
    "import os\n"
   ]
  },
  {
   "cell_type": "code",
   "execution_count": null,
   "metadata": {
    "collapsed": false
   },
   "outputs": [],
   "source": [
    "symbtrs = [os.path.splitext(s)[0] for s in getFileNamesInDir(os.path.join('..', '..', 'txt'), keyword='*.txt')[2]]\n"
   ]
  },
  {
   "cell_type": "code",
   "execution_count": null,
   "metadata": {
    "collapsed": false
   },
   "outputs": [],
   "source": [
    "for ii, symbTr in enumerate(symbtrs):\n",
    "    print str(ii) + ': ' + symbTr\n",
    "    \n",
    "    symbtrtxtfile = os.path.join('..', '..', 'txt', symbTr + '.txt')\n",
    "    symbtrmu2file = os.path.join('..', '..', 'mu2', symbTr + '.mu2')\n",
    "\n",
    "    savefile = os.path.join('..', '..', 'txt', symbTr + '.txt')\n",
    "\n",
    "    # Add usul row if it is not present in the first row\n",
    "    symbtr_csv = TxtExtras.add_usul_to_first_row(symbtrtxtfile, symbtrmu2file)\n",
    "\n",
    "    with open(savefile, 'w') as text_file:\n",
    "        text_file.write(symbtr_csv)\n"
   ]
  },
  {
   "cell_type": "code",
   "execution_count": null,
   "metadata": {
    "collapsed": true
   },
   "outputs": [],
   "source": []
  }
 ],
 "metadata": {
  "kernelspec": {
   "display_name": "Python 2",
   "language": "python",
   "name": "python2"
  },
  "language_info": {
   "codemirror_mode": {
    "name": "ipython",
    "version": 2
   },
   "file_extension": ".py",
   "mimetype": "text/x-python",
   "name": "python",
   "nbconvert_exporter": "python",
   "pygments_lexer": "ipython2",
   "version": "2.7.10"
  }
 },
 "nbformat": 4,
 "nbformat_minor": 0
}
