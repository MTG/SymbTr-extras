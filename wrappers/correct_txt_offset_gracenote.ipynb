{
 "cells": [
  {
   "cell_type": "code",
   "execution_count": null,
   "metadata": {},
   "outputs": [],
   "source": [
    "from fileoperations.fileoperations import getFileNamesInDir\n",
    "from symbtrextras.SymbTrExtras import TxtExtras\n",
    "import os"
   ]
  },
  {
   "cell_type": "code",
   "execution_count": null,
   "metadata": {},
   "outputs": [],
   "source": [
    "symbtrs = [os.path.splitext(s)[0] for s in getFileNamesInDir(os.path.join('..', '..', 'txt'), keyword='*.txt')[2]]"
   ]
  },
  {
   "cell_type": "code",
   "execution_count": null,
   "metadata": {},
   "outputs": [],
   "source": [
    "for ii, symbTr in enumerate(symbtrs):\n",
    "    print str(ii) + ': ' + symbTr\n",
    "    \n",
    "    symbtr_txt_file = os.path.join('..', '..', 'txt', symbTr + '.txt')\n",
    "    symbtr_mu2_file = os.path.join('..', '..', 'mu2', symbTr + '.mu2')\n",
    "\n",
    "    symbtr_csv = TxtExtras.correct_offset_gracenote(symbtr_txt_file, symbtr_mu2_file)\n",
    "\n",
    "    with open(symbtr_txt_file, 'w') as text_file:\n",
    "        text_file.write(symbtr_csv)"
   ]
  },
  {
   "cell_type": "code",
   "execution_count": null,
   "metadata": {},
   "outputs": [],
   "source": [
    ""
   ]
  }
 ],
 "metadata": {
  "kernelspec": {
   "display_name": "Python 2",
   "language": "python",
   "name": "python2"
  },
  "language_info": {
   "codemirror_mode": {
    "name": "ipython",
    "version": 2.0
   },
   "file_extension": ".py",
   "mimetype": "text/x-python",
   "name": "python",
   "nbconvert_exporter": "python",
   "pygments_lexer": "ipython2",
   "version": "2.7.10"
  }
 },
 "nbformat": 4,
 "nbformat_minor": 0
}