{
 "cells": [
  {
   "cell_type": "code",
   "execution_count": null,
   "metadata": {
    "collapsed": true
   },
   "outputs": [],
   "source": [
    "from fileoperations.fileoperations import get_filenames_in_dir\n",
    "from symbtrextras.txtextras import TxtExtras\n",
    "import os\n"
   ]
  },
  {
   "cell_type": "code",
   "execution_count": null,
   "metadata": {
    "collapsed": true
   },
   "outputs": [],
   "source": [
    "symbtrs = [os.path.splitext(s)[0] for s in get_filenames_in_dir(os.path.join('..', '..', 'txt'), keyword='*.txt')[2]]\n"
   ]
  },
  {
   "cell_type": "code",
   "execution_count": null,
   "metadata": {
    "collapsed": true
   },
   "outputs": [],
   "source": [
    "for ii, symbTr in enumerate(symbtrs):\n",
    "    print str(ii) + ': ' + symbTr\n",
    "    \n",
    "    symbtr_txt_file = os.path.join('..', '..', 'txt', symbTr + '.txt')\n",
    "    symbtr_mu2_file = os.path.join('..', '..', 'mu2', symbTr + '.mu2')\n",
    "\n",
    "    symbtr_csv = TxtExtras.correct_offset_gracenote(symbtr_txt_file, symbtr_mu2_file)\n",
    "\n",
    "    with open(symbtr_txt_file, 'w') as text_file:\n",
    "        text_file.write(symbtr_csv)"
   ]
  }
 ],
 "metadata": {
  "kernelspec": {
   "display_name": "Python 2",
   "language": "python",
   "name": "python2"
  },
  "language_info": {
   "codemirror_mode": {
    "name": "ipython",
    "version": 2
   },
   "file_extension": ".py",
   "mimetype": "text/x-python",
   "name": "python",
   "nbconvert_exporter": "python",
   "pygments_lexer": "ipython2",
   "version": "2.7.6"
  }
 },
 "nbformat": 4,
 "nbformat_minor": 0
}
