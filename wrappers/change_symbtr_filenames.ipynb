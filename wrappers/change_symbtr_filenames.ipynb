{
 "cells": [
  {
   "cell_type": "markdown",
   "metadata": {},
   "source": [
    "change_symbtr_filenames\n",
    "===========\n",
    "The code below is to change the attributes in the symbtr filenames and commit the changes to the repository automatically. \n",
    "\n",
    "This is the wrapper notebook for *change_symbtr_filename.ipynb*. ***If you have no idea what you are doing do not touch this notebook!***\n",
    "\n",
    "**Change the cell below for the appropriate renaming.**  \n",
    "```\n",
    "symbTrs:     list of strings with the SymbTr-score filenames  \n",
    "newmakam:    string indicating the new makam.   \n",
    "newform:     string indicating the new form.\n",
    "newusul:     string indicating the new usul.\n",
    "newname:     string indicating the new composition name.\n",
    "newcomposer: string indicating the new composer.\n",
    "```\n",
    "\n",
    "To keep the makam, form, usul etc. as is, assign _None_ to the relevant variable."
   ]
  },
  {
   "cell_type": "code",
   "execution_count": null,
   "metadata": {
    "collapsed": true
   },
   "outputs": [],
   "source": [
    "symbTrs = []\n",
    "\n",
    "newmakam = None\n",
    "newform = None\n",
    "newusul = None\n",
    "newname = None\n",
    "newcomposer = None"
   ]
  },
  {
   "cell_type": "code",
   "execution_count": null,
   "metadata": {
    "collapsed": true
   },
   "outputs": [],
   "source": [
    "from fileoperations import getFileNamesInDir\n",
    "import os\n",
    "import json\n",
    "\n",
    "symbTrfolder = os.path.abspath(os.path.join('..','..'))\n",
    "symbTrTxtfolder = os.path.join(symbTrfolder, 'txt/')\n",
    "symbTrPdffolder = os.path.join(symbTrfolder, 'SymbTr-pdf/')\n",
    "symbTrMu2folder = os.path.join(symbTrfolder, 'mu2/')\n",
    "symbTrXmlfolder = os.path.join(symbTrfolder, 'MusicXML/')\n",
    "symbTrMidfolder = os.path.join(symbTrfolder, 'midi/')\n",
    "\n",
    "folders = [symbTrTxtfolder, symbTrPdffolder, symbTrMu2folder, symbTrXmlfolder, symbTrMidfolder]\n",
    "extensions = ['txt', 'pdf', 'mu2', 'xml', 'mid']\n",
    "\n",
    "symbTr_work_file = os.path.join(symbTrfolder, 'symbTr_mbid.json')\n",
    "\n",
    "scriptfolder = os.path.join(symbTrfolder, 'extras')\n",
    "sep = '--'\n",
    "\n",
    "\n",
    "for symbTr in symbTrs:\n",
    "    sybmTrattributes = symbTr.split(sep)\n",
    "    \n",
    "    if newmakam is not None:\n",
    "        sybmTrattributes[0] = newmakam \n",
    "    if newform is not None:\n",
    "        sybmTrattributes[1] = newform\n",
    "    if newusul is not None:\n",
    "        sybmTrattributes[2] = newusul\n",
    "    if newname is not None:\n",
    "        sybmTrattributes[3] = newname\n",
    "    if newcomposer is not None:\n",
    "        sybmTrattributes[4] = newcomposer\n",
    "\n",
    "    newsymbTr = sep.join(sybmTrattributes)\n",
    "    \n",
    "    commitstr = 'git commit -m \"Changed the name of ' + symbTr + ' -> ' + newsymbTr + '\"'\n",
    "    for f, e in zip(folders, extensions):\n",
    "        os.chdir(f)\n",
    "        mvstr = 'git mv ' + symbTr + '.' + e + ' ' + newsymbTr + '.' + e\n",
    "        os.system(mvstr)\n",
    "\n",
    "        if e == 'pdf':  # commit changes to SymbTrpdf submodule\n",
    "            os.system(commitstr)\n",
    "\n",
    "    worksymbtr = json.load(open(symbTr_work_file, 'r'))\n",
    "    for ws in worksymbtr:\n",
    "        if ws['name'] == symbTr:\n",
    "            ws['name'] = newsymbTr\n",
    "            print ws\n",
    "    worksymbtr = json.dump(worksymbtr, open(symbTr_work_file, 'w'))\n",
    "    \n",
    "    os.chdir(symbTrfolder)\n",
    "\n",
    "    addstr = 'git add symbTr_mbid.json SymbTr-pdf'\n",
    "    os.system(addstr)\n",
    "    os.system(commitstr)\n",
    "    os.chdir(scriptfolder)"
   ]
  }
 ],
 "metadata": {
  "kernelspec": {
   "display_name": "Python 2",
   "language": "python",
   "name": "python2"
  },
  "language_info": {
   "codemirror_mode": {
    "name": "ipython",
    "version": 2
   },
   "file_extension": ".py",
   "mimetype": "text/x-python",
   "name": "python",
   "nbconvert_exporter": "python",
   "pygments_lexer": "ipython2",
   "version": "2.7.10"
  }
 },
 "nbformat": 4,
 "nbformat_minor": 0
}
