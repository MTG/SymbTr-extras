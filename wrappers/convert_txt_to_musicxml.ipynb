{
 "cells": [
  {
   "cell_type": "code",
   "execution_count": null,
   "metadata": {
    "collapsed": true
   },
   "outputs": [],
   "source": [
    "import os\n",
    "from fileoperations.fileoperations import get_filenames_in_dir\n",
    "from musicxmlconverter.symbtr2musicxml import symbtrscore\n",
    "from symbtrextras.TxtExtras import TxtExtras\n"
   ]
  },
  {
   "cell_type": "code",
   "execution_count": null,
   "metadata": {
    "collapsed": false
   },
   "outputs": [],
   "source": [
    "txtfolder = os.path.join('..', '..', 'txt')\n",
    "mu2folder = os.path.join('..', '..', 'mu2')\n",
    "xmlfolder = os.path.join('..', '..', 'MusicXML')\n",
    "\n",
    "txtfilepaths, dummyfolders, txtfiles = get_filenames_in_dir(txtfolder, '*.txt')\n",
    "symbtrnames = [os.path.splitext(sf)[0] for sf in txtfiles]\n",
    "mu2filepaths = [os.path.join(mu2folder, sn + '.mu2') for sn in symbtrnames]\n",
    "xmlfilepaths = [os.path.join(xmlfolder, sn + '.xml') for sn in symbtrnames]\n"
   ]
  },
  {
   "cell_type": "code",
   "execution_count": null,
   "metadata": {
    "collapsed": false,
    "scrolled": false
   },
   "outputs": [],
   "source": [
    "for ii, (tf, mf, xf, sn) in enumerate(zip(txtfilepaths, mu2filepaths, xmlfilepaths, symbtrnames)):\n",
    "    print str(ii) + ' ' + sn\n",
    "    \n",
    "    symbtr_xml = TxtExtras.to_musicxml(sn, tf, mf)\n",
    "    with open(xf, 'w') as xml_file:\n",
    "        xml_file.write(symbtr_xml)\n"
   ]
  },
  {
   "cell_type": "code",
   "execution_count": null,
   "metadata": {
    "collapsed": true
   },
   "outputs": [],
   "source": []
  }
 ],
 "metadata": {
  "kernelspec": {
   "display_name": "Python 2",
   "language": "python",
   "name": "python2"
  },
  "language_info": {
   "codemirror_mode": {
    "name": "ipython",
    "version": 2
   },
   "file_extension": ".py",
   "mimetype": "text/x-python",
   "name": "python",
   "nbconvert_exporter": "python",
   "pygments_lexer": "ipython2",
   "version": "2.7.10"
  }
 },
 "nbformat": 4,
 "nbformat_minor": 0
}
