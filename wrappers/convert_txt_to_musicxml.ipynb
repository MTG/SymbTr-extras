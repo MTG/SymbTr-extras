{
 "cells": [
  {
   "cell_type": "code",
   "execution_count": 1,
   "metadata": {
    "collapsed": true
   },
   "outputs": [],
   "source": [
    "import os\n",
    "from fileoperations.fileoperations import get_filenames_in_dir\n",
    "from symbtrextras.TxtExtras import TxtExtras\n"
   ]
  },
  {
   "cell_type": "code",
   "execution_count": 2,
   "metadata": {
    "collapsed": false
   },
   "outputs": [],
   "source": [
    "txtfolder = os.path.join('..', '..', 'txt')\n",
    "mu2folder = os.path.join('..', '..', 'mu2')\n",
    "xmlfolder = os.path.join('..', '..', 'MusicXML')\n",
    "\n",
    "txtfilepaths, dummyfolders, txtfiles = get_filenames_in_dir(txtfolder, '*.txt')\n",
    "symbtrnames = [os.path.splitext(sf)[0] for sf in txtfiles]\n",
    "mu2filepaths = [os.path.join(mu2folder, sn + '.mu2') for sn in symbtrnames]\n",
    "xmlfilepaths = [os.path.join(xmlfolder, sn + '.xml') for sn in symbtrnames]\n"
   ]
  },
  {
   "cell_type": "code",
   "execution_count": 3,
   "metadata": {
    "collapsed": false,
    "scrolled": false
   },
   "outputs": [
    {
     "name": "stdout",
     "output_type": "stream",
     "text": [
      "0 acem--ilahi--duyek--aldanma_dunya--zekai_dede\n",
      "1 acem--ilahi--nimevsat--calabim_bir--haci_bayram_veli\n",
      "2 acem--kupe--duyek--zulfunu--ahmet_avni_konuk\n",
      "3 acem--selam--devrikebir--asik-i_ger--huseyin_fahreddin_dede\n",
      "<Element attributes at 0x112c817e8>\n",
      "<Element time at 0x112b70290>\n",
      "<Element attributes at 0x112c85560>\n",
      "<Element time at 0x112c85248>\n",
      "4 acem--seyir--sofyan--1--erol_bingol\n",
      "5 acem--seyir--sofyan--1--sefik_gurmeric\n",
      "6 acem--turku--duyek--ordunun_dereleri--ordu\n",
      "7 acemasiran--aranagme--agiraksak--1--\n",
      "8 acemasiran--aranagme--aksak--1--\n",
      "9 acemasiran--aranagme--curcuna--1--\n",
      "10 acemasiran--aranagme--semai--1--\n",
      "11 acemasiran--aranagme--senginsemai--1--\n",
      "12 acemasiran--aranagme--sofyan--1--\n",
      "13 acemasiran--aranagme--yuruksemai--1--\n",
      "14 acemasiran--beste--devrikebir--ber_kusa-yi--basmaci_abdi_efendi\n",
      "15 acemasiran--beste--zencir--hayatin_cumleye--dellalzade_haci_ismail_efendi\n",
      "16 acemasiran--fantezi--yuruksemai_ii--ey_benim--resat_erer\n",
      "17 acemasiran--ilahi--muhammes--ta_dil--calakzade_mustafa_efendi\n",
      "18 acemasiran--kupe--aksaksemai--bir--ahmet_avni_konuk\n",
      "19 acemasiran--mars--nimsofyan--korkma_sonmez--ali_rifat_cagatay\n",
      "20 acemasiran--nakis--yuruksemai--ne_hevayi--dede_efendi\n",
      "21 acemasiran--pesrev--devrikebir----dede_salih_efendi\n",
      "22 acemasiran--pesrev--duyek--son_pesrev--huseyin_fahreddin_dede\n",
      "23 acemasiran--pesrev--frenkcin----nuri_halil_poyraz\n",
      "<Element attributes at 0x112c96488>\n",
      "<Element time at 0x112cbef38>\n",
      "<Element attributes at 0x112c9f4d0>\n",
      "<Element time at 0x112c9f320>\n",
      "<Element attributes at 0x112cb1d88>\n",
      "<Element time at 0x112cb1cb0>\n",
      "24 acemasiran--pesrev--muhammes----gazi_giray_han\n",
      "25 acemasiran--sarki--agiraksak--bir_haber--bimen_sen\n",
      "26 acemasiran--sarki--agiraksak--bir_teselli--serif_icli\n",
      "27 acemasiran--sarki--agiraksak--goncasindan_gulsenin--emin_ongan\n",
      "28 acemasiran--sarki--agiraksak--mahveder_her--neyzen_riza_bey\n",
      "29 acemasiran--sarki--agiraksak--ne_kadar--artaki_candan\n",
      "30 acemasiran--sarki--agirduyek--kime_halim--faize_ergin\n",
      "31 acemasiran--sarki--aksak--acildi_nevbahar--sadullah_aga\n",
      "32 acemasiran--sarki--aksak--dinle_sozum--iii_selim\n",
      "33 acemasiran--sarki--aksak--dustum_bir--ali_riza_avni_tinaz\n"
     ]
    },
    {
     "ename": "KeyboardInterrupt",
     "evalue": "",
     "output_type": "error",
     "traceback": [
      "\u001b[0;31m---------------------------------------------------------------------------\u001b[0m",
      "\u001b[0;31mKeyboardInterrupt\u001b[0m                         Traceback (most recent call last)",
      "\u001b[0;32m<ipython-input-3-62e5b2fd60d7>\u001b[0m in \u001b[0;36m<module>\u001b[0;34m()\u001b[0m\n\u001b[1;32m      2\u001b[0m     \u001b[0;32mprint\u001b[0m \u001b[0mstr\u001b[0m\u001b[0;34m(\u001b[0m\u001b[0mii\u001b[0m\u001b[0;34m)\u001b[0m \u001b[0;34m+\u001b[0m \u001b[0;34m' '\u001b[0m \u001b[0;34m+\u001b[0m \u001b[0msn\u001b[0m\u001b[0;34m\u001b[0m\u001b[0m\n\u001b[1;32m      3\u001b[0m \u001b[0;34m\u001b[0m\u001b[0m\n\u001b[0;32m----> 4\u001b[0;31m     \u001b[0msymbtr_xml\u001b[0m \u001b[0;34m=\u001b[0m \u001b[0mTxtExtras\u001b[0m\u001b[0;34m.\u001b[0m\u001b[0mto_musicxml\u001b[0m\u001b[0;34m(\u001b[0m\u001b[0msn\u001b[0m\u001b[0;34m,\u001b[0m \u001b[0mtf\u001b[0m\u001b[0;34m,\u001b[0m \u001b[0mmf\u001b[0m\u001b[0;34m)\u001b[0m\u001b[0;34m\u001b[0m\u001b[0m\n\u001b[0m\u001b[1;32m      5\u001b[0m     \u001b[0;32mwith\u001b[0m \u001b[0mopen\u001b[0m\u001b[0;34m(\u001b[0m\u001b[0mxf\u001b[0m\u001b[0;34m,\u001b[0m \u001b[0;34m'w'\u001b[0m\u001b[0;34m)\u001b[0m \u001b[0;32mas\u001b[0m \u001b[0mxml_file\u001b[0m\u001b[0;34m:\u001b[0m\u001b[0;34m\u001b[0m\u001b[0m\n\u001b[1;32m      6\u001b[0m         \u001b[0mxml_file\u001b[0m\u001b[0;34m.\u001b[0m\u001b[0mwrite\u001b[0m\u001b[0;34m(\u001b[0m\u001b[0msymbtr_xml\u001b[0m\u001b[0;34m)\u001b[0m\u001b[0;34m\u001b[0m\u001b[0m\n",
      "\u001b[0;32m/Users/sertansenturk_mtg/Documents/notaIcra/data/SymbTr/SymbTr-extras/symbtrextras/TxtExtras.pyc\u001b[0m in \u001b[0;36mto_musicxml\u001b[0;34m(cls, symbtr_name, txt_file, mu2_file)\u001b[0m\n\u001b[1;32m    187\u001b[0m         \u001b[0;31m# MusicXML conversion\u001b[0m\u001b[0;34m\u001b[0m\u001b[0;34m\u001b[0m\u001b[0m\n\u001b[1;32m    188\u001b[0m         piece = SymbTrScore(txt_file, mu2_file, symbtrname=symbtr_name,\n\u001b[0;32m--> 189\u001b[0;31m                             mbid_url=mbids)\n\u001b[0m\u001b[1;32m    190\u001b[0m         \u001b[0;32mreturn\u001b[0m \u001b[0mpiece\u001b[0m\u001b[0;34m.\u001b[0m\u001b[0mconvertsymbtr2xml\u001b[0m\u001b[0;34m(\u001b[0m\u001b[0mverbose\u001b[0m\u001b[0;34m=\u001b[0m\u001b[0mFalse\u001b[0m\u001b[0;34m)\u001b[0m\u001b[0;34m\u001b[0m\u001b[0m\n",
      "\u001b[0;32m/Users/sertansenturk_mtg/Documents/notaIcra/code/MusicXMLConverter/musicxmlconverter/symbtr2musicxml.py\u001b[0m in \u001b[0;36m__init__\u001b[0;34m(self, txtpath, mu2path, symbtrname, mbid_url, verbose)\u001b[0m\n\u001b[1;32m    291\u001b[0m         \u001b[0mself\u001b[0m\u001b[0;34m.\u001b[0m\u001b[0msubdivisionthreshold\u001b[0m \u001b[0;34m=\u001b[0m \u001b[0;36m0\u001b[0m\u001b[0;34m\u001b[0m\u001b[0m\n\u001b[1;32m    292\u001b[0m \u001b[0;34m\u001b[0m\u001b[0m\n\u001b[0;32m--> 293\u001b[0;31m         \u001b[0mself\u001b[0m\u001b[0;34m.\u001b[0m\u001b[0mreadsymbtr\u001b[0m\u001b[0;34m(\u001b[0m\u001b[0;34m)\u001b[0m  \u001b[0;31m# read symbtr txt file\u001b[0m\u001b[0;34m\u001b[0m\u001b[0m\n\u001b[0m\u001b[1;32m    294\u001b[0m \u001b[0;34m\u001b[0m\u001b[0m\n\u001b[1;32m    295\u001b[0m         \u001b[0mself\u001b[0m\u001b[0;34m.\u001b[0m\u001b[0msymbt2xmldict\u001b[0m \u001b[0;34m=\u001b[0m \u001b[0mdict\u001b[0m\u001b[0;34m(\u001b[0m\u001b[0;34m)\u001b[0m\u001b[0;34m\u001b[0m\u001b[0m\n",
      "\u001b[0;32m/Users/sertansenturk_mtg/Documents/notaIcra/code/MusicXMLConverter/musicxmlconverter/symbtr2musicxml.py\u001b[0m in \u001b[0;36mreadsymbtr\u001b[0;34m(self)\u001b[0m\n\u001b[1;32m    358\u001b[0m         \u001b[0mself\u001b[0m\u001b[0;34m.\u001b[0m\u001b[0msectionextractor\u001b[0m\u001b[0;34m(\u001b[0m\u001b[0;34m)\u001b[0m\u001b[0;34m\u001b[0m\u001b[0m\n\u001b[1;32m    359\u001b[0m \u001b[0;34m\u001b[0m\u001b[0m\n\u001b[0;32m--> 360\u001b[0;31m         \u001b[0mself\u001b[0m\u001b[0;34m.\u001b[0m\u001b[0mreadsymbtrlines\u001b[0m\u001b[0;34m(\u001b[0m\u001b[0;34m)\u001b[0m\u001b[0;34m\u001b[0m\u001b[0m\n\u001b[0m\u001b[1;32m    361\u001b[0m         \u001b[0mself\u001b[0m\u001b[0;34m.\u001b[0m\u001b[0mnotecount\u001b[0m \u001b[0;34m=\u001b[0m \u001b[0mlen\u001b[0m\u001b[0;34m(\u001b[0m\u001b[0mself\u001b[0m\u001b[0;34m.\u001b[0m\u001b[0mnotes\u001b[0m\u001b[0;34m)\u001b[0m\u001b[0;34m\u001b[0m\u001b[0m\n\u001b[1;32m    362\u001b[0m         \u001b[0;31m# print(self.notecount)\u001b[0m\u001b[0;34m\u001b[0m\u001b[0;34m\u001b[0m\u001b[0m\n",
      "\u001b[0;32m/Users/sertansenturk_mtg/Documents/notaIcra/code/MusicXMLConverter/musicxmlconverter/symbtr2musicxml.py\u001b[0m in \u001b[0;36mreadsymbtrlines\u001b[0;34m(self)\u001b[0m\n\u001b[1;32m    375\u001b[0m                 \u001b[0;32mbreak\u001b[0m\u001b[0;34m\u001b[0m\u001b[0m\n\u001b[1;32m    376\u001b[0m             \u001b[0;32melse\u001b[0m\u001b[0;34m:\u001b[0m\u001b[0;34m\u001b[0m\u001b[0m\n\u001b[0;32m--> 377\u001b[0;31m                 \u001b[0mtemp_line\u001b[0m \u001b[0;34m=\u001b[0m \u001b[0mtemp_line\u001b[0m\u001b[0;34m.\u001b[0m\u001b[0msplit\u001b[0m\u001b[0;34m(\u001b[0m\u001b[0;34m'\\t'\u001b[0m\u001b[0;34m)\u001b[0m\u001b[0;34m\u001b[0m\u001b[0m\n\u001b[0m\u001b[1;32m    378\u001b[0m                 \u001b[0;31m# NOTE CLASS\u001b[0m\u001b[0;34m\u001b[0m\u001b[0;34m\u001b[0m\u001b[0m\n\u001b[1;32m    379\u001b[0m                 self.notes.append(\n",
      "\u001b[0;31mKeyboardInterrupt\u001b[0m: "
     ]
    }
   ],
   "source": [
    "for ii, (tf, mf, xf, sn) in enumerate(zip(txtfilepaths, mu2filepaths, xmlfilepaths, symbtrnames)):\n",
    "    print str(ii) + ' ' + sn\n",
    "    \n",
    "    symbtr_xml = TxtExtras.to_musicxml(sn, tf, mf)\n",
    "    with open(xf, 'w') as xml_file:\n",
    "        xml_file.write(symbtr_xml)\n"
   ]
  },
  {
   "cell_type": "code",
   "execution_count": null,
   "metadata": {
    "collapsed": true
   },
   "outputs": [],
   "source": []
  }
 ],
 "metadata": {
  "kernelspec": {
   "display_name": "Python 2",
   "language": "python",
   "name": "python2"
  },
  "language_info": {
   "codemirror_mode": {
    "name": "ipython",
    "version": 2
   },
   "file_extension": ".py",
   "mimetype": "text/x-python",
   "name": "python",
   "nbconvert_exporter": "python",
   "pygments_lexer": "ipython2",
   "version": "2.7.10"
  }
 },
 "nbformat": 4,
 "nbformat_minor": 0
}
