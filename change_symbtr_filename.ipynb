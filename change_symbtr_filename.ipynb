{
 "cells": [
  {
   "cell_type": "markdown",
   "metadata": {},
   "source": [
    "change_symbtr_filename\n",
    "===========\n",
    "The code below is to change the attributes of a single SymbTr filename and commit the changes to the repository automatically. \n",
    "\n",
    "If you have no idea what you are doing do not touch this notebook! \n",
    "\n",
    "**Change the cell below for the appropriate renaming.**\n",
    "\n",
    "```\n",
    "symbTr:      string indicating the SymbTr-score filename  \n",
    "newmakam:    string indicating the new makam.   \n",
    "newform:     string indicating the new form.\n",
    "newusul:     string indicating the new usul.\n",
    "newname:     string indicating the new composition name.\n",
    "newcomposer: string indicating the new composer.\n",
    "```\n",
    "\n",
    "To keep the makam, form, usul etc. as is, assign _None_ to the relevant variable."
   ]
  },
  {
   "cell_type": "code",
   "execution_count": null,
   "metadata": {
    "collapsed": true
   },
   "outputs": [],
   "source": [
    "symbTr = 'makam--form--usul--name--composer'\n",
    "\n",
    "newmakam = None\n",
    "newform = None\n",
    "newusul = None\n",
    "newname = None\n",
    "newcomposer = None"
   ]
  },
  {
   "cell_type": "code",
   "execution_count": null,
   "metadata": {
    "collapsed": true
   },
   "outputs": [],
   "source": [
    "from fileoperations.fileoperations import get_filenames_in_dir\n",
    "import os\n",
    "import json"
   ]
  },
  {
   "cell_type": "code",
   "execution_count": null,
   "metadata": {
    "collapsed": false
   },
   "outputs": [],
   "source": [
    "sep = '--'\n",
    "sybmTrattributes = symbTr.split(sep)\n",
    "\n",
    "symbTrfolder = os.path.abspath('..')\n",
    "symbTrTxtfolder = os.path.join(symbTrfolder, 'txt/')\n",
    "symbTrPdffolder = os.path.join(symbTrfolder, 'SymbTr-pdf/')\n",
    "symbTrMu2folder = os.path.join(symbTrfolder, 'mu2/')\n",
    "symbTrXmlfolder = os.path.join(symbTrfolder, 'MusicXML/')\n",
    "symbTrMidfolder = os.path.join(symbTrfolder, 'midi/')\n",
    "\n",
    "folders = [symbTrTxtfolder, symbTrPdffolder, symbTrMu2folder, symbTrXmlfolder, symbTrMidfolder]\n",
    "extensions = ['txt', 'pdf', 'mu2', 'xml', 'mid']\n",
    "\n",
    "symbTr_work_file = os.path.join(symbTrfolder, 'symbTr_mbid.json')\n",
    "\n",
    "scriptfolder = os.path.join(symbTrfolder, 'SymbTr-extras')\n"
   ]
  },
  {
   "cell_type": "code",
   "execution_count": null,
   "metadata": {
    "collapsed": true
   },
   "outputs": [],
   "source": [
    "if newmakam is not None:\n",
    "    sybmTrattributes[0] = newmakam \n",
    "if newform is not None:\n",
    "    sybmTrattributes[1] = newform\n",
    "if newusul is not None:\n",
    "    sybmTrattributes[2] = newusul\n",
    "if newname is not None:\n",
    "    sybmTrattributes[3] = newname\n",
    "if newcomposer is not None:\n",
    "    sybmTrattributes[4] = newcomposer\n",
    "\n",
    "newsymbTr = sep.join(sybmTrattributes)"
   ]
  },
  {
   "cell_type": "code",
   "execution_count": null,
   "metadata": {
    "collapsed": true
   },
   "outputs": [],
   "source": [
    "commitstr = 'git commit -m \"Changed the name of ' + symbTr + ' -> ' + newsymbTr + '\"'\n",
    "for f, e in zip(folders, extensions):\n",
    "    os.chdir(f)\n",
    "    mvstr = 'git mv ' + symbTr + '.' + e + ' ' + newsymbTr + '.' + e\n",
    "    os.system(mvstr)\n",
    "    \n",
    "    if e == 'pdf':  # commit changes to SymbTrpdf submodule\n",
    "        os.system(commitstr)"
   ]
  },
  {
   "cell_type": "code",
   "execution_count": null,
   "metadata": {
    "collapsed": false
   },
   "outputs": [],
   "source": [
    "worksymbtr = json.load(open(symbTr_work_file, 'r'))\n",
    "for ws in worksymbtr:\n",
    "    if ws['name'] == symbTr:\n",
    "        ws['name'] = newsymbTr\n",
    "        print ws\n",
    "worksymbtr = json.dump(worksymbtr, open(symbTr_work_file, 'w'), indent=4)"
   ]
  },
  {
   "cell_type": "code",
   "execution_count": null,
   "metadata": {
    "collapsed": false
   },
   "outputs": [],
   "source": [
    "os.chdir(symbTrfolder)\n",
    "\n",
    "addstr = 'git add symbTr_mbid.json SymbTr-pdf'\n",
    "os.system(addstr)\n",
    "os.system(commitstr)\n",
    "os.chdir(scriptfolder)"
   ]
  }
 ],
 "metadata": {
  "kernelspec": {
   "display_name": "Python 2",
   "language": "python",
   "name": "python2"
  },
  "language_info": {
   "codemirror_mode": {
    "name": "ipython",
    "version": 2
   },
   "file_extension": ".py",
   "mimetype": "text/x-python",
   "name": "python",
   "nbconvert_exporter": "python",
   "pygments_lexer": "ipython2",
   "version": "2.7.11+"
  }
 },
 "nbformat": 4,
 "nbformat_minor": 0
}
