{
 "cells": [
  {
   "cell_type": "code",
   "execution_count": null,
   "metadata": {
    "collapsed": false
   },
   "outputs": [],
   "source": [
    "import os\n",
    "from symbtrextras.SymbTrExtras import TxtExtras\n"
   ]
  },
  {
   "cell_type": "code",
   "execution_count": null,
   "metadata": {
    "collapsed": false
   },
   "outputs": [],
   "source": [
    "# I/O\n",
    "symbTr = 'makam--form--usul--name--composer'  # change the name to the desired SymbTr-score accordingly\n",
    "\n",
    "txt_file = os.path.join('..', 'txt', symbTr + '.txt')\n",
    "mu2_file = os.path.join('..', 'mu2', symbTr + '.mu2')\n",
    "save_txt_file = os.path.join('..', 'txt', symbTr + '.txt')  # overwrite the txt file\n",
    "\n",
    "# instantiate SymbTrExtras object\n",
    "txtExtras = TxtExtras()\n"
   ]
  },
  {
   "cell_type": "code",
   "execution_count": null,
   "metadata": {
    "collapsed": false
   },
   "outputs": [],
   "source": [
    "# Add usul row if it is not present in the first row\n",
    "symbtr_csv = txtExtras.addUsul2FirstRow(txt_file, mu2_file)\n",
    "\n",
    "with open(save_txt_file, 'w') as text_file:\n",
    "    text_file.write(symbtr_csv)\n",
    "    "
   ]
  },
  {
   "cell_type": "code",
   "execution_count": null,
   "metadata": {
    "collapsed": false
   },
   "outputs": [],
   "source": [
    "# Force the duration of all gracenotes to 0 and recompute the offset column accoring to the usul cycle(s)\n",
    "symbtr_csv = txtExtras.correctOffsetGracenote(txt_file, mu2_file)\n",
    "\n",
    "with open(save_txt_file, 'w') as text_file:\n",
    "    text_file.write(symbtr_csv)\n",
    "    "
   ]
  },
  {
   "cell_type": "code",
   "execution_count": null,
   "metadata": {
    "collapsed": true
   },
   "outputs": [],
   "source": [
    "    "
   ]
  }
 ],
 "metadata": {
  "kernelspec": {
   "display_name": "Python 2",
   "language": "python",
   "name": "python2"
  },
  "language_info": {
   "codemirror_mode": {
    "name": "ipython",
    "version": 2
   },
   "file_extension": ".py",
   "mimetype": "text/x-python",
   "name": "python",
   "nbconvert_exporter": "python",
   "pygments_lexer": "ipython2",
   "version": "2.7.10"
  }
 },
 "nbformat": 4,
 "nbformat_minor": 0
}
