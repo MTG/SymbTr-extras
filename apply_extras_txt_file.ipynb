{
 "cells": [
  {
   "cell_type": "code",
   "execution_count": null,
   "metadata": {
    "collapsed": false
   },
   "outputs": [],
   "source": [
    "import os\n",
    "from symbtrextras.scoreextras import ScoreExtras\n",
    "from symbtrextras.txtextras import TxtExtras\n"
   ]
  },
  {
   "cell_type": "code",
   "execution_count": null,
   "metadata": {
    "collapsed": true
   },
   "outputs": [],
   "source": [
    "# I/O, change the name to the desired SymbTr-score accordingly\n",
    "symbtr_name = 'makam--form--usul--name--composer'\n",
    "\n",
    "# txt and mu2 filepaths, default is the  path in the SymbTr collection\\\n",
    "txt_file = os.path.join('..', 'txt', symbtr_name + '.txt')\n",
    "mu2_file = os.path.join('..', 'mu2', symbtr_name + '.mu2')\n",
    "\n",
    "# txt and MusicXML files to save\n",
    "# WARNING: The default overwrites the files in the SymbTr collection\n",
    "save_txt_file = os.path.join('..', 'txt', symbtr_name + '.txt')\n",
    "save_xml_file = os.path.join('..', 'MusicXML', symbtr_name + '.xml')"
   ]
  },
  {
   "cell_type": "code",
   "execution_count": null,
   "metadata": {
    "collapsed": false
   },
   "outputs": [],
   "source": [
    "# Change encoding to UTF-8\n",
    "ScoreExtras.change_encoding_to_utf8(txt_file)\n",
    "ScoreExtras.change_encoding_to_utf8(mu2_file)\n"
   ]
  },
  {
   "cell_type": "code",
   "execution_count": null,
   "metadata": {
    "collapsed": true
   },
   "outputs": [],
   "source": [
    "# Change the line break from \\r\\n (Windows) to \\n (Unix)\n",
    "ScoreExtras.change_to_unix_linebreak(txt_file)\n",
    "ScoreExtras.change_to_unix_linebreak(mu2_file)\n"
   ]
  },
  {
   "cell_type": "code",
   "execution_count": null,
   "metadata": {
    "collapsed": false
   },
   "outputs": [],
   "source": [
    "# Make sure the rest row is always \"Es   Es   -1   -1\"\n",
    "symbtr_csv = TxtExtras.correct_rests(txt_file)\n",
    "\n",
    "\n",
    "with open(save_txt_file, 'w') as text_file:\n",
    "    text_file.write(symbtr_csv)\n",
    "    "
   ]
  },
  {
   "cell_type": "code",
   "execution_count": null,
   "metadata": {
    "collapsed": false
   },
   "outputs": [],
   "source": [
    "# Add usul row if it is not present in the first row\n",
    "symbtr_csv = TxtExtras.add_usul_to_first_row(txt_file, mu2_file)\n",
    "\n",
    "with open(save_txt_file, 'w') as text_file:\n",
    "    text_file.write(symbtr_csv)\n",
    "    "
   ]
  },
  {
   "cell_type": "code",
   "execution_count": null,
   "metadata": {
    "collapsed": false
   },
   "outputs": [],
   "source": [
    "# Check usul rows and attempt to fill missing information\n",
    "symbtr_csv = TxtExtras.check_usul_row(txt_file)   \n",
    "\n",
    "with open(txt_file, 'w') as text_file:\n",
    "    text_file.write(symbtr_csv)\n",
    "    "
   ]
  },
  {
   "cell_type": "code",
   "execution_count": null,
   "metadata": {
    "collapsed": false
   },
   "outputs": [],
   "source": [
    "# Force the duration of all gracenotes to 0 and recompute the offset column \n",
    "# according to the usul cycle(s)\n",
    "symbtr_csv = TxtExtras.correct_offset_gracenote(txt_file, mu2_file)\n",
    "\n",
    "with open(save_txt_file, 'w') as text_file:\n",
    "    text_file.write(symbtr_csv)\n"
   ]
  },
  {
   "cell_type": "code",
   "execution_count": null,
   "metadata": {
    "collapsed": false
   },
   "outputs": [],
   "source": [
    "# Convert the txt file to MusicXML using the additional metadata from mu2 files\n",
    "# (and the MusicBrainz mbid)\n",
    "%pdb\n",
    "symbtr_xml = TxtExtras.to_musicxml(symbtr_name, txt_file, mu2_file)\n",
    "\n",
    "with open(save_xml_file, 'w') as xml_file:\n",
    "    xml_file.write(symbtr_xml)\n",
    "    "
   ]
  }
 ],
 "metadata": {
  "kernelspec": {
   "display_name": "Python 2",
   "language": "python",
   "name": "python2"
  },
  "language_info": {
   "codemirror_mode": {
    "name": "ipython",
    "version": 2
   },
   "file_extension": ".py",
   "mimetype": "text/x-python",
   "name": "python",
   "nbconvert_exporter": "python",
   "pygments_lexer": "ipython2",
   "version": "2.7.11+"
  }
 },
 "nbformat": 4,
 "nbformat_minor": 0
}
