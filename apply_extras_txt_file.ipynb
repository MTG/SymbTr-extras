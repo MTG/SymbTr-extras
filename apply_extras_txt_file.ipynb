{
 "cells": [
  {
   "cell_type": "code",
   "execution_count": 1,
   "metadata": {
    "collapsed": false
   },
   "outputs": [],
   "source": [
    "import os\n",
    "from symbtrextras.ScoreExtras import ScoreExtras\n",
    "from symbtrextras.TxtExtras import TxtExtras\n"
   ]
  },
  {
   "cell_type": "code",
   "execution_count": 2,
   "metadata": {
    "collapsed": true
   },
   "outputs": [],
   "source": [
    "# I/O, change the name to the desired SymbTr-score accordingly\n",
    "#symbTr = 'makam--form--usul--name--composer'\n",
    "symbTr = 'kurdi--turku--sofyan--dalda_cikmis--' \n",
    "\n",
    "txt_file = os.path.join('..', 'txt', symbTr + '.txt')\n",
    "mu2_file = os.path.join('..', 'mu2', symbTr + '.mu2')\n",
    "\n",
    "save_txt_file = os.path.join('..', 'txt', symbTr + '.txt')  # overwrite the txt file\n",
    "save_xml_file = os.path.join('..', 'MusicXML', symbTr + '.xml')  # overwrite the txt file"
   ]
  },
  {
   "cell_type": "code",
   "execution_count": 3,
   "metadata": {
    "collapsed": false
   },
   "outputs": [],
   "source": [
    "# Change encoding to UTF-8\n",
    "ScoreExtras.change_encoding_to_utf8(txt_file)\n",
    "ScoreExtras.change_encoding_to_utf8(mu2_file)"
   ]
  },
  {
   "cell_type": "code",
   "execution_count": 4,
   "metadata": {
    "collapsed": true
   },
   "outputs": [],
   "source": [
    "# Change the line break from \\r\\n (Windows) to \\n (Unix)\n",
    "ScoreExtras.change_to_unix_linebreak(txt_file)\n",
    "ScoreExtras.change_to_unix_linebreak(mu2_file)"
   ]
  },
  {
   "cell_type": "code",
   "execution_count": 5,
   "metadata": {
    "collapsed": false
   },
   "outputs": [
    {
     "name": "stdout",
     "output_type": "stream",
     "text": [
      "kurdi--turku--sofyan--dalda_cikmis-- starts with the usul row. Skipping...\n"
     ]
    }
   ],
   "source": [
    "# Add usul row if it is not present in the first row\n",
    "symbtr_csv = TxtExtras.add_usul_to_first_row(txt_file, mu2_file)\n",
    "\n",
    "with open(save_txt_file, 'w') as text_file:\n",
    "    text_file.write(symbtr_csv)"
   ]
  },
  {
   "cell_type": "code",
   "execution_count": 6,
   "metadata": {
    "collapsed": true
   },
   "outputs": [],
   "source": [
    "# Check uusl rows and attempt to fill missing information\n",
    "symbtr_csv = TxtExtras.check_usul_row(txt_file)   \n",
    "\n",
    "with open(txt_file, 'w') as text_file:\n",
    "    text_file.write(symbtr_csv)"
   ]
  },
  {
   "cell_type": "code",
   "execution_count": 7,
   "metadata": {
    "collapsed": true
   },
   "outputs": [],
   "source": [
    "# Force the duration of all gracenotes to 0 and recompute the offset column accoring to the usul cycle(s)\n",
    "symbtr_csv = TxtExtras.correct_offset_gracenote(txt_file, mu2_file)\n",
    "\n",
    "with open(save_txt_file, 'w') as text_file:\n",
    "    text_file.write(symbtr_csv)"
   ]
  },
  {
   "cell_type": "code",
   "execution_count": 8,
   "metadata": {
    "collapsed": false
   },
   "outputs": [],
   "source": [
    "# Convert the txt file to MusicXML using the additional metadata from mu2 files (and the MusicBrainz mbid)\n",
    "symbtr_xml = TxtExtras.to_musicxml(symbTr, txt_file, mu2_file)\n",
    "\n",
    "with open(save_xml_file, 'w') as xml_file:\n",
    "    xml_file.write(symbtr_xml)"
   ]
  },
  {
   "cell_type": "code",
   "execution_count": null,
   "metadata": {
    "collapsed": true
   },
   "outputs": [],
   "source": []
  }
 ],
 "metadata": {
  "kernelspec": {
   "display_name": "Python 2",
   "language": "python",
   "name": "python2"
  },
  "language_info": {
   "codemirror_mode": {
    "name": "ipython",
    "version": 2
   },
   "file_extension": ".py",
   "mimetype": "text/x-python",
   "name": "python",
   "nbconvert_exporter": "python",
   "pygments_lexer": "ipython2",
   "version": "2.7.10"
  }
 },
 "nbformat": 4,
 "nbformat_minor": 0
}
