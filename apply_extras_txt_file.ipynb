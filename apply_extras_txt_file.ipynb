{
 "cells": [
  {
   "cell_type": "code",
   "execution_count": null,
   "metadata": {
    "collapsed": false
   },
   "outputs": [],
   "source": [
    "import os\n",
    "from symbtrextras.SymbTrExtras import TxtExtras, ScoreExtras\n",
    "\n",
    "from musicxmlconverter.symbtr2musicxml import symbtrscore\n"
   ]
  },
  {
   "cell_type": "code",
   "execution_count": null,
   "metadata": {
    "collapsed": false
   },
   "outputs": [],
   "source": [
    "# I/O, change the name to the desired SymbTr-score accordingly\n",
    "symbTr = 'acem--ilahi--nimevsat--calabim_bir--haci_bayram_veli' \n",
    "#symbTr = 'makam--form--usul--name--composer'\n",
    "\n",
    "txt_file = os.path.join('..', 'txt', symbTr + '.txt')\n",
    "mu2_file = os.path.join('..', 'mu2', symbTr + '.mu2')\n",
    "save_txt_file = os.path.join('..', 'txt', symbTr + '.txt')  # overwrite the txt file\n"
   ]
  },
  {
   "cell_type": "code",
   "execution_count": null,
   "metadata": {
    "collapsed": false
   },
   "outputs": [],
   "source": [
    "# Add usul row if it is not present in the first row\n",
    "symbtr_csv = TxtExtras.add_usul_to_first_row(txt_file, mu2_file)\n",
    "\n",
    "with open(save_txt_file, 'w') as text_file:\n",
    "    text_file.write(symbtr_csv)\n",
    "    "
   ]
  },
  {
   "cell_type": "code",
   "execution_count": null,
   "metadata": {
    "collapsed": false
   },
   "outputs": [],
   "source": [
    "# Force the duration of all gracenotes to 0 and recompute the offset column accoring to the usul cycle(s)\n",
    "symbtr_csv = TxtExtras.correct_offset_gracenote(txt_file, mu2_file)\n",
    "\n",
    "with open(save_txt_file, 'w') as text_file:\n",
    "    text_file.write(symbtr_csv)\n",
    "    "
   ]
  },
  {
   "cell_type": "code",
   "execution_count": null,
   "metadata": {
    "collapsed": false
   },
   "outputs": [],
   "source": [
    "# Convert the txt file to MusicXML using the additional metadata from mu2 files and the MusicBrainz mbid\n",
    "mbids = ScoreExtras.get_mbids('acem--ilahi--nimevsat--calabim_bir--haci_bayram_veli')\n",
    "\n",
    "# MusicXML conversion\n",
    "piece = symbtrscore(txt_file, mu2_file, symbtrname=symbTr, mbid_url=mbids)\n",
    "piece.convertsymbtr2xml(verbose=False)\n"
   ]
  },
  {
   "cell_type": "code",
   "execution_count": null,
   "metadata": {
    "collapsed": true
   },
   "outputs": [],
   "source": []
  }
 ],
 "metadata": {
  "kernelspec": {
   "display_name": "Python 2",
   "language": "python",
   "name": "python2"
  },
  "language_info": {
   "codemirror_mode": {
    "name": "ipython",
    "version": 2
   },
   "file_extension": ".py",
   "mimetype": "text/x-python",
   "name": "python",
   "nbconvert_exporter": "python",
   "pygments_lexer": "ipython2",
   "version": "2.7.10"
  }
 },
 "nbformat": 4,
 "nbformat_minor": 0
}
