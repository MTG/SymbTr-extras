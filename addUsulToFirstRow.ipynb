{
 "cells": [
  {
   "cell_type": "code",
   "execution_count": null,
   "metadata": {
    "collapsed": false
   },
   "outputs": [],
   "source": [
    "import os\n",
    "from symbtrextras.Extras import Extras\n"
   ]
  },
  {
   "cell_type": "code",
   "execution_count": null,
   "metadata": {
    "collapsed": false
   },
   "outputs": [],
   "source": [
    "symbTr = 'makam--form--usul--name--composer'\n",
    "\n",
    "txt_file = os.path.join('..', 'txt', symbTr + '.txt')\n",
    "mu2_file = os.path.join('..', 'mu2', symbTr + '.mu2')\n",
    "save_txt_file = os.path.join('..', 'txt', symbTr + '.txt')\n"
   ]
  },
  {
   "cell_type": "code",
   "execution_count": null,
   "metadata": {
    "collapsed": false
   },
   "outputs": [],
   "source": [
    "symbtrExtras = Extras()\n",
    "symbtr_csv = symbtrExtras.addUsul2FirstRow(txt_file, mu2_file)\n",
    "\n",
    "with open(save_txt_file, 'w') as text_file:\n",
    "    text_file.write(symbtr_csv)\n",
    "    "
   ]
  }
 ],
 "metadata": {
  "kernelspec": {
   "display_name": "Python 2",
   "language": "python",
   "name": "python2"
  },
  "language_info": {
   "codemirror_mode": {
    "name": "ipython",
    "version": 2
   },
   "file_extension": ".py",
   "mimetype": "text/x-python",
   "name": "python",
   "nbconvert_exporter": "python",
   "pygments_lexer": "ipython2",
   "version": "2.7.10"
  }
 },
 "nbformat": 4,
 "nbformat_minor": 0
}
