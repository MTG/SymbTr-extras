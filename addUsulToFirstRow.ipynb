{
 "cells": [
  {
   "cell_type": "code",
   "execution_count": null,
   "metadata": {
    "collapsed": true
   },
   "outputs": [],
   "source": [
    "from fileoperations.fileoperations import getFileNamesInDir\n",
    "from symbtrdataextractor import symbtrreader, extractor\n",
    "import os\n",
    "import json\n",
    "import pandas as pd \n",
    "\n",
    "import pdb"
   ]
  },
  {
   "cell_type": "code",
   "execution_count": null,
   "metadata": {
    "collapsed": true
   },
   "outputs": [],
   "source": [
    "symbtr_cols = ['Sira', 'Kod', 'Nota53', 'NotaAE', 'Koma53', 'KomaAE', \n",
    "               'Pay', 'Payda', 'Ms', 'LNS', 'Bas', 'Soz1', 'Offset']"
   ]
  },
  {
   "cell_type": "code",
   "execution_count": null,
   "metadata": {
    "collapsed": true
   },
   "outputs": [],
   "source": [
    "symbTr = 'makam--form--usul--name--composer'\n",
    "\n",
    "symbtrtxtfile = os.path.join('..', 'txt', symbTr + '.txt')\n",
    "symbtrmu2file = os.path.join('..', 'mu2', symbTr + '.mu2')\n",
    "\n",
    "usuldict = json.load(open('./symbtrextras/data/usul_extended.json','r'))\n",
    "\n",
    "savefile = os.path.join('..', 'txt', symbTr + '.txt')"
   ]
  },
  {
   "cell_type": "code",
   "execution_count": null,
   "metadata": {
    "collapsed": false
   },
   "outputs": [],
   "source": [
    "# extract symbtr data\n",
    "txtdata = extractor.extract(symbtrtxtfile)[0]\n",
    "mu2header = symbtrreader.readMu2Header(symbtrmu2file)[0]\n",
    "\n",
    "# merge\n",
    "data = extractor.merge(txtdata, mu2header)"
   ]
  },
  {
   "cell_type": "code",
   "execution_count": null,
   "metadata": {
    "collapsed": false
   },
   "outputs": [],
   "source": [
    "variant = {}\n",
    "for vrt in usuldict[data['usul']['symbtr_slug']]['variants']:\n",
    "    if vrt['mu2_name'] == data['usul']['mu2_name']:\n",
    "        variant = vrt\n",
    "        break\n",
    "        "
   ]
  },
  {
   "cell_type": "code",
   "execution_count": null,
   "metadata": {
    "collapsed": false
   },
   "outputs": [],
   "source": [
    "df = pd.read_csv(symbtrtxtfile, sep='\\t')\n",
    "if not df.iloc[0]['Kod'] == 51:\n",
    "    # create the usul row\n",
    "    # 1\t51\t\t\t0\t0\tzaman\tmertebe\t0\tusul_symbtr_internal_id\t0\tusul_mu2_name\t0\n",
    "    # 1\t51\t\t\t0\t0\t6\t4\t0\t90\t0\tYürüksemâî (6/4)\t0\n",
    "    usulrow = pd.DataFrame({'Sira':1, 'Kod':51, 'Nota53':'', 'NotaAE':'', 'Koma53':0, 'KomaAE':0,\n",
    "                            'Pay':int(variant['num_pulses']),'Payda':int(variant['mertebe']),'Ms':0,'Offset':0,\n",
    "                            'LNS':variant['symbtr_internal_id'],'Bas':0,'Soz1':variant['mu2_name']}, index=[0])\n",
    "    df2 = pd.DataFrame(df,index=range(1, df.size+1))\n",
    "    \n",
    "    for index, row in df.iterrows():       \n",
    "        # change null to empty string\n",
    "        for key, val in row.iteritems():\n",
    "            if pd.isnull(val):\n",
    "                row[key] = ''\n",
    "\n",
    "        # make sure that \"Sira\" column continues consecutively\n",
    "        row['Sira'] = row['Sira']+1\n",
    "\n",
    "        # reassign\n",
    "        df.iloc[index] = row\n",
    "        \n",
    "    df_usul = pd.concat([usulrow, df], ignore_index=True)[symbtr_cols]\n",
    "    df_usul.to_csv(savefile, sep='\\t', index=False, encoding='utf-8')\n",
    "else:\n",
    "    print symbTr + \" starts with the usul row\""
   ]
  }
 ],
 "metadata": {
  "kernelspec": {
   "display_name": "Python 2",
   "language": "python",
   "name": "python2"
  },
  "language_info": {
   "codemirror_mode": {
    "name": "ipython",
    "version": 2
   },
   "file_extension": ".py",
   "mimetype": "text/x-python",
   "name": "python",
   "nbconvert_exporter": "python",
   "pygments_lexer": "ipython2",
   "version": "2.7.10"
  }
 },
 "nbformat": 4,
 "nbformat_minor": 0
}
